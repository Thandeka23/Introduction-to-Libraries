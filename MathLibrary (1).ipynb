{
 "cells": [
  {
   "cell_type": "code",
   "execution_count": 3,
   "id": "2666752b-96a5-408d-83b5-e5a11dab60e7",
   "metadata": {},
   "outputs": [
    {
     "name": "stdout",
     "output_type": "stream",
     "text": [
      "Square root of 38: 6.164414002968976\n",
      "4 to the power of 8: 65536.0\n",
      "Natural logarithm of 38: 3.6375861597263857\n",
      "Logarithm of 38 base 10: 1.57978359661681\n"
     ]
    }
   ],
   "source": [
    "import math  # Import the math library for mathematical functions\n",
    "\n",
    "# Function to calculate square root\n",
    "# Takes a number as input and returns its square root using math.sqrt()\n",
    "def calculate_square_root(number):\n",
    "    return math.sqrt(number)\n",
    "\n",
    "# Function to calculate power (x^y)\n",
    "# Takes base and exponent as inputs and returns base raised to the power of exponent using math.pow()\n",
    "def calculate_power(base, exponent):\n",
    "    return math.pow(base, exponent)\n",
    "\n",
    "# Function to calculate logarithm\n",
    "# Takes a number and an optional base as inputs (default is natural logarithm base e)\n",
    "# Returns the logarithm of the number to the specified base using math.log()\n",
    "def calculate_logarithm(number, base=math.e):\n",
    "    return math.log(number, base)\n",
    "\n",
    "# Example usage\n",
    "number = 38       # Number to calculate the square root and logarithm\n",
    "base = 4          # Base value for power and logarithm calculations\n",
    "exponent = 8      # Exponent value for power calculation\n",
    "\n",
    "# Calculate the square root of the number\n",
    "sqrt_result = calculate_square_root(number)\n",
    "\n",
    "# Calculate base raised to the power of exponent (base^exponent)\n",
    "power_result = calculate_power(base, exponent)\n",
    "\n",
    "# Calculate the natural logarithm (log base e) of the number\n",
    "log_result = calculate_logarithm(number)\n",
    "\n",
    "# Print the results\n",
    "print(f\"Square root of {number}: {sqrt_result}\")\n",
    "print(f\"{base} to the power of {exponent}: {power_result}\")\n",
    "print(f\"Natural logarithm of {number}: {log_result}\")\n",
    "\n",
    "# For logarithm with custom base (log base 10)\n",
    "log_base_10_result = calculate_logarithm(number, 10)\n",
    "\n",
    "# Print the result of the logarithm with base 10\n",
    "print(f\"Logarithm of {number} base 10: {log_base_10_result}\")"
   ]
  },
  {
   "cell_type": "code",
   "execution_count": null,
   "id": "587ca084-3e76-4ff2-9e0c-724d971d65a7",
   "metadata": {},
   "outputs": [],
   "source": []
  }
 ],
 "metadata": {
  "kernelspec": {
   "display_name": "Python 3 (ipykernel)",
   "language": "python",
   "name": "python3"
  },
  "language_info": {
   "codemirror_mode": {
    "name": "ipython",
    "version": 3
   },
   "file_extension": ".py",
   "mimetype": "text/x-python",
   "name": "python",
   "nbconvert_exporter": "python",
   "pygments_lexer": "ipython3",
   "version": "3.12.4"
  }
 },
 "nbformat": 4,
 "nbformat_minor": 5
}
