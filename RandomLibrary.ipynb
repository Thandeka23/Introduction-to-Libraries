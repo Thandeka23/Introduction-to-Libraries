{
 "cells": [
  {
   "cell_type": "code",
   "execution_count": 77,
   "id": "9677f2f2-f1ed-4541-bdbb-db9bc9b49b13",
   "metadata": {},
   "outputs": [
    {
     "name": "stdout",
     "output_type": "stream",
     "text": [
      "Random Numbers:\n",
      "33\n",
      "24\n",
      "53\n",
      "91\n",
      "32\n",
      "\n",
      "Random numbers written to random_numbers.txt\n"
     ]
    }
   ],
   "source": [
    "# Import the random library and write a program to generate five random integers between 1 and 100. \n",
    "# Save these numbers to a file named random_numbers.txt.\n",
    " \n",
    "import random  # Importing the random library to generate random numbers\n",
    " \n",
    "# Generating a list of 5 random integers between 1 and 100\n",
    "random_numbers = [random.randint(1, 100) for _ in range(5)]\n",
    " \n",
    "# Print the list of random numbers to the console\n",
    "print(\"Random Numbers:\")\n",
    "for num in random_numbers:\n",
    "    print(num)\n",
    "\n",
    "# Open a file named 'random_numbers.txt' in write mode using file = open()\n",
    "file = open('random_numbers.txt', 'w')  # Open the file in write mode\n",
    " \n",
    "# Iterate through the list of random numbers\n",
    "for num in random_numbers:\n",
    "    # Write each number to the file, converting it to a string and adding a newline character\n",
    "    file.write(str(num) + '\\n')\n",
    " \n",
    "# Close the file after writing\n",
    "file.close()  # Make sure to close the file to save the changes\n",
    " \n",
    "# Print a message to indicate that the file has been written \n",
    "print(\"\\nRandom numbers written to random_numbers.txt\")\n",
    " \n"
   ]
  }
 ],
 "metadata": {
  "kernelspec": {
   "display_name": "Python 3 (ipykernel)",
   "language": "python",
   "name": "python3"
  },
  "language_info": {
   "codemirror_mode": {
    "name": "ipython",
    "version": 3
   },
   "file_extension": ".py",
   "mimetype": "text/x-python",
   "name": "python",
   "nbconvert_exporter": "python",
   "pygments_lexer": "ipython3",
   "version": "3.12.4"
  }
 },
 "nbformat": 4,
 "nbformat_minor": 5
}
